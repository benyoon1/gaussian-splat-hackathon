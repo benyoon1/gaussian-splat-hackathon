{
  "cells": [
    {
      "cell_type": "markdown",
      "metadata": {
        "id": "view-in-github",
        "colab_type": "text"
      },
      "source": [
        "<a href=\"https://colab.research.google.com/github/benyoon1/gaussian-splat-hackathon/blob/main/gaussian_convert.ipynb\" target=\"_parent\"><img src=\"https://colab.research.google.com/assets/colab-badge.svg\" alt=\"Open In Colab\"/></a>"
      ]
    },
    {
      "cell_type": "code",
      "source": [
        "%cd /content\n",
        "!git clone --recursive https://github.com/camenduru/gaussian-splatting\n",
        "!pip install -q plyfile\n",
        "\n",
        "%cd /content/gaussian-splatting\n",
        "!pip install -q /content/gaussian-splatting/submodules/diff-gaussian-rasterization\n",
        "!pip install -q /content/gaussian-splatting/submodules/simple-knn"
      ],
      "metadata": {
        "id": "WD3E6Y895tvm"
      },
      "execution_count": null,
      "outputs": []
    },
    {
      "cell_type": "code",
      "source": [
        "import torch\n",
        "\n",
        "if torch.cuda.is_available():\n",
        "    print(\"CUDA is available.\")\n",
        "    print(\"CUDA version:\", torch.version.cuda)\n",
        "    print(\"GPU:\", torch.cuda.get_device_name(0))\n",
        "else:\n",
        "    print(\"CUDA is not available.\")\n"
      ],
      "metadata": {
        "colab": {
          "base_uri": "https://localhost:8080/"
        },
        "id": "Jg-_TYBaJkcD",
        "outputId": "5f582c0b-9596-442d-ced5-7fd5f08e3f80"
      },
      "execution_count": null,
      "outputs": [
        {
          "output_type": "stream",
          "name": "stdout",
          "text": [
            "CUDA is available.\n",
            "CUDA version: 12.1\n",
            "GPU: NVIDIA A100-SXM4-40GB\n"
          ]
        }
      ]
    },
    {
      "cell_type": "markdown",
      "source": [
        "Install dependencies for COLMAP:"
      ],
      "metadata": {
        "id": "rYVvRWm4Surg"
      }
    },
    {
      "cell_type": "code",
      "source": [
        "!sudo apt-get install \\\n",
        "    git \\\n",
        "    cmake \\\n",
        "    ninja-build \\\n",
        "    build-essential \\\n",
        "    libboost-program-options-dev \\\n",
        "    libboost-filesystem-dev \\\n",
        "    libboost-graph-dev \\\n",
        "    libboost-system-dev \\\n",
        "    libeigen3-dev \\\n",
        "    libflann-dev \\\n",
        "    libfreeimage-dev \\\n",
        "    libmetis-dev \\\n",
        "    libgoogle-glog-dev \\\n",
        "    libgtest-dev \\\n",
        "    libsqlite3-dev \\\n",
        "    libglew-dev \\\n",
        "    qtbase5-dev \\\n",
        "    libqt5opengl5-dev \\\n",
        "    libcgal-dev \\\n",
        "    libceres-dev"
      ],
      "metadata": {
        "id": "svceo2_SN5Si"
      },
      "execution_count": null,
      "outputs": []
    },
    {
      "cell_type": "code",
      "source": [
        "!sudo apt-get install -y git cmake build-essential libboost-program-options-dev libboost-filesystem-dev libboost-graph-dev libboost-regex-dev libboost-system-dev libboost-test-dev libeigen3-dev libsuitesparse-dev libfreeimage-dev libgoogle-glog-dev libgflags-dev libglew-dev qtbase5-dev libqt5opengl5-dev libcgal-dev libgtest-dev libpng-dev libjpeg-dev libtiff-dev libxxf86vm1 libxxf86vm-dev libxi-dev libxrandr-dev libflann-dev\n"
      ],
      "metadata": {
        "id": "AxG8GRQz22Ex"
      },
      "execution_count": null,
      "outputs": []
    },
    {
      "cell_type": "code",
      "source": [
        "%cd /content\n",
        "!git clone https://github.com/colmap/colmap.git\n",
        "%cd colmap\n",
        "!mkdir build\n",
        "%cd build\n",
        "!cmake ..\n",
        "!make -j$(nproc)\n",
        "!sudo make install"
      ],
      "metadata": {
        "id": "JjKB3Ypu3HUC"
      },
      "execution_count": null,
      "outputs": []
    },
    {
      "cell_type": "code",
      "source": [
        "%cd /content\n",
        "!git clone https://github.com/ceres-solver/ceres-solver.git\n",
        "%cd ceres-solver\n",
        "!mkdir build\n",
        "%cd build\n",
        "!cmake ..\n",
        "!make -j$(nproc)\n",
        "!sudo make install"
      ],
      "metadata": {
        "id": "zR-uxf-c5CZg"
      },
      "execution_count": null,
      "outputs": []
    },
    {
      "cell_type": "code",
      "source": [
        "%cd /content/gaussian-splatting\n",
        "!python convert.py -s {path_to_images}"
      ],
      "metadata": {
        "id": "IIXgwEMT-L47"
      },
      "execution_count": null,
      "outputs": []
    },
    {
      "cell_type": "code",
      "source": [
        "!python train.py -s {path_to_converted_files} --iterations 30000 --save_iterations 10000 20000 30000"
      ],
      "metadata": {
        "id": "PopYnOqoKL6B"
      },
      "execution_count": null,
      "outputs": []
    }
  ],
  "metadata": {
    "accelerator": "GPU",
    "colab": {
      "gpuType": "V100",
      "provenance": [],
      "mount_file_id": "1VhWO4IS0TWz2m190MUNc3JC1VkbL4Her",
      "authorship_tag": "ABX9TyMQ6Zpb2blBfk2YX7dPvPyU",
      "include_colab_link": true
    },
    "kernelspec": {
      "display_name": "Python 3",
      "name": "python3"
    },
    "language_info": {
      "name": "python"
    }
  },
  "nbformat": 4,
  "nbformat_minor": 0
}